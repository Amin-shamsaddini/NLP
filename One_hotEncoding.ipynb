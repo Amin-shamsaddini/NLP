{
  "nbformat": 4,
  "nbformat_minor": 0,
  "metadata": {
    "colab": {
      "provenance": [],
      "authorship_tag": "ABX9TyPq5IqWlVf0CKn4s2srCQgj",
      "include_colab_link": true
    },
    "kernelspec": {
      "name": "python3",
      "display_name": "Python 3"
    },
    "language_info": {
      "name": "python"
    }
  },
  "cells": [
    {
      "cell_type": "markdown",
      "metadata": {
        "id": "view-in-github",
        "colab_type": "text"
      },
      "source": [
        "<a href=\"https://colab.research.google.com/github/Amin-shamsaddini/NLP/blob/main/One_hotEncoding.ipynb\" target=\"_parent\"><img src=\"https://colab.research.google.com/assets/colab-badge.svg\" alt=\"Open In Colab\"/></a>"
      ]
    },
    {
      "cell_type": "code",
      "execution_count": null,
      "metadata": {
        "id": "RL7-5sb-06ly"
      },
      "outputs": [],
      "source": [
        "##One-hot Encoding\n",
        "In Numpy\n",
        "Step1. Convert Text to lower case\n",
        "Step2. Tokenize the text\n",
        "Step3. Get unique words\n",
        "Step4. Sort the word list\n",
        "Step5. Get the integer/position of the words\n",
        "Step6. create a vector of each word by marking its position as 1 and rest as 0\n",
        "Step7. create a matrix of the found vectors."
      ]
    }
  ]
}