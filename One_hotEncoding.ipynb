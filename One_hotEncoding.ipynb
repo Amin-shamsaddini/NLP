{
  "nbformat": 4,
  "nbformat_minor": 0,
  "metadata": {
    "colab": {
      "provenance": [],
      "authorship_tag": "ABX9TyOnxgPbX4XM/3biFqmAGg24",
      "include_colab_link": true
    },
    "kernelspec": {
      "name": "python3",
      "display_name": "Python 3"
    },
    "language_info": {
      "name": "python"
    }
  },
  "cells": [
    {
      "cell_type": "markdown",
      "metadata": {
        "id": "view-in-github",
        "colab_type": "text"
      },
      "source": [
        "<a href=\"https://colab.research.google.com/github/Amin-shamsaddini/NLP/blob/main/One_hotEncoding.ipynb\" target=\"_parent\"><img src=\"https://colab.research.google.com/assets/colab-badge.svg\" alt=\"Open In Colab\"/></a>"
      ]
    },
    {
      "cell_type": "markdown",
      "source": [
        "##One-hot Encoding\n",
        "In Numpy\n",
        "\n",
        "Step1. Convert Text to lower case\n",
        "\n",
        "Step2. Tokenize the text\n",
        "\n",
        "Step3. Get unique words\n",
        "\n",
        "Step4. Sort the word list\n",
        "\n",
        "Step5. Get the integer/position of the words\n",
        "\n",
        "Step6. create a vector of each word by marking its position as 1 and rest as 0\n",
        "\n",
        "Step7. create a matrix of the found vectors."
      ],
      "metadata": {
        "id": "8JwWPtiXbUdu"
      }
    },
    {
      "cell_type": "code",
      "execution_count": null,
      "metadata": {
        "id": "RL7-5sb-06ly",
        "colab": {
          "base_uri": "https://localhost:8080/"
        },
        "outputId": "6345fc05-a495-4094-8674-41caa257bcea"
      },
      "outputs": [
        {
          "output_type": "stream",
          "name": "stdout",
          "text": [
            "\n",
            "values:  ['i', 'learn', 'nlp', 'should']\n",
            "\n",
            "integer encoded:  [3, 0, 1, 2]\n"
          ]
        }
      ],
      "source": [
        "import numpy as np\n",
        "docs = \"Should I learn NLP\"\n",
        "doc = docs.lower().split()\n",
        "doc1 = set(doc)\n",
        "doc1 = sorted(doc1)\n",
        "print (\"\\nvalues: \", doc1)\n",
        "\n",
        "integer_encoded = []\n",
        "\n",
        "for i in doc:\n",
        "  v=int(np.where(np.array(doc1)==  i)[0][0])\n",
        "  integer_encoded.append(v)\n",
        "\n",
        "print (\"\\ninteger encoded: \",integer_encoded)\n",
        "\n",
        "\n",
        "def get_vec(len_doc,word):\n",
        "    empty_vector = [0] * len_doc\n",
        "    vect = 0\n",
        "    find = np.where( np.array(doc1) == word)[0][0]\n",
        "    empty_vector[find] = 1\n",
        "    return empty_vector\n",
        "\n",
        "def get_matrix(doc1):\n",
        "    mat = []\n",
        "    len_doc = len(doc1)\n",
        "    for i in docs:\n",
        "        vec = get_vec(len_doc,i)\n",
        "        mat.append(vec)\n",
        "\n",
        "    return np.asarray(mat)\n",
        "\n",
        "print (\"\\nMATRIX:\")\n",
        "print (get_matrix(doc1))\n"
      ]
    }
  ]
}